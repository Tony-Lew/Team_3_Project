{
  "nbformat": 4,
  "nbformat_minor": 0,
  "metadata": {
    "colab": {
      "name": "Team_3_Project.ipynb",
      "provenance": [],
      "collapsed_sections": []
    },
    "kernelspec": {
      "name": "python3",
      "display_name": "Python 3"
    },
    "language_info": {
      "name": "python"
    }
  },
  "cells": [
    {
      "cell_type": "code",
      "execution_count": 1,
      "metadata": {
        "colab": {
          "base_uri": "https://localhost:8080/"
        },
        "id": "EAO4rholwF3Z",
        "outputId": "fbbfcbc2-256c-496b-a121-e5b5e2ae44ec"
      },
      "outputs": [
        {
          "output_type": "stream",
          "name": "stdout",
          "text": [
            "Get:1 https://cloud.r-project.org/bin/linux/ubuntu bionic-cran40/ InRelease [3,626 B]\n",
            "Get:2 http://security.ubuntu.com/ubuntu bionic-security InRelease [88.7 kB]\n",
            "Ign:3 https://developer.download.nvidia.com/compute/machine-learning/repos/ubuntu1804/x86_64  InRelease\n",
            "Get:4 https://developer.download.nvidia.com/compute/cuda/repos/ubuntu1804/x86_64  InRelease [1,581 B]\n",
            "Get:5 https://cloud.r-project.org/bin/linux/ubuntu bionic-cran40/ Packages [89.9 kB]\n",
            "Hit:6 https://developer.download.nvidia.com/compute/machine-learning/repos/ubuntu1804/x86_64  Release\n",
            "Hit:7 http://archive.ubuntu.com/ubuntu bionic InRelease\n",
            "Get:8 https://developer.download.nvidia.com/compute/cuda/repos/ubuntu1804/x86_64  Packages [903 kB]\n",
            "Get:9 http://ppa.launchpad.net/c2d4u.team/c2d4u4.0+/ubuntu bionic InRelease [15.9 kB]\n",
            "Get:10 http://archive.ubuntu.com/ubuntu bionic-updates InRelease [88.7 kB]\n",
            "Hit:12 http://ppa.launchpad.net/cran/libgit2/ubuntu bionic InRelease\n",
            "Get:13 http://archive.ubuntu.com/ubuntu bionic-backports InRelease [74.6 kB]\n",
            "Get:14 http://security.ubuntu.com/ubuntu bionic-security/universe amd64 Packages [1,533 kB]\n",
            "Get:15 http://ppa.launchpad.net/deadsnakes/ppa/ubuntu bionic InRelease [15.9 kB]\n",
            "Get:16 http://archive.ubuntu.com/ubuntu bionic-updates/restricted amd64 Packages [1,141 kB]\n",
            "Get:17 http://security.ubuntu.com/ubuntu bionic-security/main amd64 Packages [2,937 kB]\n",
            "Hit:18 http://ppa.launchpad.net/graphics-drivers/ppa/ubuntu bionic InRelease\n",
            "Get:19 http://security.ubuntu.com/ubuntu bionic-security/restricted amd64 Packages [1,100 kB]\n",
            "Get:20 http://archive.ubuntu.com/ubuntu bionic-updates/universe amd64 Packages [2,310 kB]\n",
            "Get:21 http://ppa.launchpad.net/c2d4u.team/c2d4u4.0+/ubuntu bionic/main Sources [2,076 kB]\n",
            "Get:22 http://archive.ubuntu.com/ubuntu bionic-updates/main amd64 Packages [3,369 kB]\n",
            "Get:23 http://ppa.launchpad.net/c2d4u.team/c2d4u4.0+/ubuntu bionic/main amd64 Packages [1,064 kB]\n",
            "Get:24 http://ppa.launchpad.net/deadsnakes/ppa/ubuntu bionic/main amd64 Packages [45.3 kB]\n",
            "Fetched 16.9 MB in 7s (2,348 kB/s)\n",
            "Reading package lists... Done\n"
          ]
        }
      ],
      "source": [
        "import os\n",
        "# Find the latest version of spark 3.0  from http://www.apache.org/dist/spark/ and enter as the spark version\n",
        "# For example:\n",
        "# spark_version = 'spark-3.0.3'\n",
        "spark_version = 'spark-3.3.0'\n",
        "os.environ['SPARK_VERSION'] = spark_version\n",
        "\n",
        "# Install Spark and Java\n",
        "!apt-get update\n",
        "!apt-get install openjdk-11-jdk-headless -qq > /dev/null\n",
        "!wget -q http://www.apache.org/dist/spark/$SPARK_VERSION/$SPARK_VERSION-bin-hadoop3.tgz\n",
        "!tar xf $SPARK_VERSION-bin-hadoop3.tgz\n",
        "!pip install -q findspark\n",
        "\n",
        "# Set Environment Variables\n",
        "os.environ[\"JAVA_HOME\"] = \"/usr/lib/jvm/java-11-openjdk-amd64\"\n",
        "os.environ[\"SPARK_HOME\"] = f\"/content/{spark_version}-bin-hadoop3\"\n",
        "\n",
        "# Start a SparkSession\n",
        "import findspark\n",
        "findspark.init()\n"
      ]
    },
    {
      "cell_type": "code",
      "source": [
        "!pip install pyspark"
      ],
      "metadata": {
        "colab": {
          "base_uri": "https://localhost:8080/"
        },
        "id": "R3PozFcmdP9A",
        "outputId": "1af7c5b8-0dcb-4f54-af93-03aa0e2a1cc1"
      },
      "execution_count": 2,
      "outputs": [
        {
          "output_type": "stream",
          "name": "stdout",
          "text": [
            "Looking in indexes: https://pypi.org/simple, https://us-python.pkg.dev/colab-wheels/public/simple/\n",
            "Collecting pyspark\n",
            "  Downloading pyspark-3.3.0.tar.gz (281.3 MB)\n",
            "\u001b[K     |████████████████████████████████| 281.3 MB 44 kB/s \n",
            "\u001b[?25hCollecting py4j==0.10.9.5\n",
            "  Downloading py4j-0.10.9.5-py2.py3-none-any.whl (199 kB)\n",
            "\u001b[K     |████████████████████████████████| 199 kB 48.4 MB/s \n",
            "\u001b[?25hBuilding wheels for collected packages: pyspark\n",
            "  Building wheel for pyspark (setup.py) ... \u001b[?25l\u001b[?25hdone\n",
            "  Created wheel for pyspark: filename=pyspark-3.3.0-py2.py3-none-any.whl size=281764026 sha256=5ffa971a7dfb033fe062bdd328232545929e78bdee321fd60f895ba66ad2d7ec\n",
            "  Stored in directory: /root/.cache/pip/wheels/7a/8e/1b/f73a52650d2e5f337708d9f6a1750d451a7349a867f928b885\n",
            "Successfully built pyspark\n",
            "Installing collected packages: py4j, pyspark\n",
            "Successfully installed py4j-0.10.9.5 pyspark-3.3.0\n"
          ]
        }
      ]
    },
    {
      "cell_type": "code",
      "source": [
        "# Download the Postgres driver that will allow Spark to interact with Postgres.\n",
        "!wget https://jdbc.postgresql.org/download/postgresql-42.2.16.jar"
      ],
      "metadata": {
        "colab": {
          "base_uri": "https://localhost:8080/"
        },
        "id": "2kDg2C-xwja4",
        "outputId": "538b1340-865e-432c-de11-86b06b254d88"
      },
      "execution_count": 3,
      "outputs": [
        {
          "output_type": "stream",
          "name": "stdout",
          "text": [
            "--2022-08-13 17:08:53--  https://jdbc.postgresql.org/download/postgresql-42.2.16.jar\n",
            "Resolving jdbc.postgresql.org (jdbc.postgresql.org)... 72.32.157.228, 2001:4800:3e1:1::228\n",
            "Connecting to jdbc.postgresql.org (jdbc.postgresql.org)|72.32.157.228|:443... connected.\n",
            "HTTP request sent, awaiting response... 200 OK\n",
            "Length: 1002883 (979K) [application/java-archive]\n",
            "Saving to: ‘postgresql-42.2.16.jar’\n",
            "\n",
            "postgresql-42.2.16. 100%[===================>] 979.38K  1.18MB/s    in 0.8s    \n",
            "\n",
            "2022-08-13 17:08:54 (1.18 MB/s) - ‘postgresql-42.2.16.jar’ saved [1002883/1002883]\n",
            "\n"
          ]
        }
      ]
    },
    {
      "cell_type": "code",
      "source": [
        "from pyspark.sql import SparkSession\n",
        "spark = SparkSession.builder.appName(\"Team-3-Project\").getOrCreate()"
      ],
      "metadata": {
        "id": "CY66Ya7ywtPu"
      },
      "execution_count": 4,
      "outputs": []
    },
    {
      "cell_type": "code",
      "source": [
        "from pyspark import SparkFiles\n",
        "url = \"https://team-3-s3-data-bucket.s3.amazonaws.com/202111-citibike-tripdata.csv\"\n",
        "spark.sparkContext.addFile(url)\n",
        "bikedata_df = spark.read.csv(SparkFiles.get(\"\"), sep=\",\", header=True, inferSchema=True)\n",
        "bikedata_df.head(5)"
      ],
      "metadata": {
        "colab": {
          "base_uri": "https://localhost:8080/"
        },
        "id": "St7vHsSIbbEu",
        "outputId": "75a53bda-e9e9-455a-f8e7-72a55914a794"
      },
      "execution_count": 5,
      "outputs": [
        {
          "output_type": "execute_result",
          "data": {
            "text/plain": [
              "[Row(ride_id='F8C750DE34200458', rideable_type='electric_bike', started_at=datetime.datetime(2021, 11, 8, 7, 34, 45), ended_at=datetime.datetime(2021, 11, 8, 7, 52, 14), start_station_name='Franklin Ave & St Marks Ave', start_station_id='4107.05', end_station_name='Carroll St & Smith St', end_station_id='4225.14', start_lat=40.6758324, start_lng=-73.9561677, end_lat=40.680611, end_lng=-73.99475825, member_casual='member'),\n",
              " Row(ride_id='150B96183EA723BE', rideable_type='electric_bike', started_at=datetime.datetime(2021, 11, 24, 10, 27, 6), ended_at=datetime.datetime(2021, 11, 24, 10, 34, 40), start_station_name='Pleasant Ave & E 120 St', start_station_id='7579.01', end_station_name='Willis Ave & E 137 St', end_station_id='7726.02', start_lat=40.7974772, start_lng=-73.9311847, end_lat=40.808384, end_lng=-73.923604, member_casual='member'),\n",
              " Row(ride_id='55BA8CE0120B8994', rideable_type='electric_bike', started_at=datetime.datetime(2021, 11, 27, 18, 11, 36), ended_at=datetime.datetime(2021, 11, 27, 19, 19, 16), start_station_name='West St & Liberty St', start_station_id='5184.08', end_station_name='W 45 St & 8 Ave', end_station_id='6676.02', start_lat=40.711444, start_lng=-74.014847, end_lat=40.75929124, end_lng=-73.98859651, member_casual='member'),\n",
              " Row(ride_id='BEEAF39A29375A4F', rideable_type='electric_bike', started_at=datetime.datetime(2021, 11, 22, 14, 52, 20), ended_at=datetime.datetime(2021, 11, 22, 15, 30, 40), start_station_name='W 67 St & Broadway', start_station_id='7116.04', end_station_name='E 84 St & 1 Ave', end_station_id='7180.02', start_lat=40.77492513, start_lng=-73.98266566, end_lat=40.77565541, end_lng=-73.95068615, member_casual='member'),\n",
              " Row(ride_id='A322C249E2152BE8', rideable_type='electric_bike', started_at=datetime.datetime(2021, 11, 10, 14, 32, 56), ended_at=datetime.datetime(2021, 11, 10, 14, 36, 19), start_station_name='W 53 St & 10 Ave', start_station_id='6890.01', end_station_name='W 45 St & 8 Ave', end_station_id='6676.02', start_lat=40.76669671, start_lng=-73.99061728, end_lat=40.75929124, end_lng=-73.98859651, member_casual='member')]"
            ]
          },
          "metadata": {},
          "execution_count": 5
        }
      ]
    },
    {
      "cell_type": "code",
      "source": [
        "bikedata_df.show()\n"
      ],
      "metadata": {
        "colab": {
          "base_uri": "https://localhost:8080/"
        },
        "id": "KUaRvdAlZZO2",
        "outputId": "915c7518-ec04-498a-d516-cc6724ac104c"
      },
      "execution_count": 6,
      "outputs": [
        {
          "output_type": "stream",
          "name": "stdout",
          "text": [
            "+----------------+-------------+-------------------+-------------------+--------------------+----------------+--------------------+--------------+-----------+--------------+------------+--------------+-------------+\n",
            "|         ride_id|rideable_type|         started_at|           ended_at|  start_station_name|start_station_id|    end_station_name|end_station_id|  start_lat|     start_lng|     end_lat|       end_lng|member_casual|\n",
            "+----------------+-------------+-------------------+-------------------+--------------------+----------------+--------------------+--------------+-----------+--------------+------------+--------------+-------------+\n",
            "|F8C750DE34200458|electric_bike|2021-11-08 07:34:45|2021-11-08 07:52:14|Franklin Ave & St...|         4107.05|Carroll St & Smit...|       4225.14| 40.6758324|   -73.9561677|   40.680611|  -73.99475825|       member|\n",
            "|150B96183EA723BE|electric_bike|2021-11-24 10:27:06|2021-11-24 10:34:40|Pleasant Ave & E ...|         7579.01|Willis Ave & E 13...|       7726.02| 40.7974772|   -73.9311847|   40.808384|    -73.923604|       member|\n",
            "|55BA8CE0120B8994|electric_bike|2021-11-27 18:11:36|2021-11-27 19:19:16|West St & Liberty St|         5184.08|     W 45 St & 8 Ave|       6676.02|  40.711444|    -74.014847| 40.75929124|  -73.98859651|       member|\n",
            "|BEEAF39A29375A4F|electric_bike|2021-11-22 14:52:20|2021-11-22 15:30:40|  W 67 St & Broadway|         7116.04|     E 84 St & 1 Ave|       7180.02|40.77492513|  -73.98266566| 40.77565541|  -73.95068615|       member|\n",
            "|A322C249E2152BE8|electric_bike|2021-11-10 14:32:56|2021-11-10 14:36:19|    W 53 St & 10 Ave|         6890.01|     W 45 St & 8 Ave|       6676.02|40.76669671|  -73.99061728| 40.75929124|  -73.98859651|       member|\n",
            "|47838257604530BE|electric_bike|2021-11-09 07:20:53|2021-11-09 07:26:13|Franklin Ave & St...|         4107.05|Plaza St East & F...|       4010.01| 40.6758324|   -73.9561677|   40.673134|    -73.969106|       casual|\n",
            "|362E604AA6EECA77| classic_bike|2021-11-03 16:23:08|2021-11-03 16:30:39|Classon Ave & St ...|         4074.03|Plaza St East & F...|       4010.01| 40.6765198|   -73.9596082|   40.673134|    -73.969106|       casual|\n",
            "|68CF5DD571217350| classic_bike|2021-11-03 14:00:14|2021-11-03 14:07:12|Columbia St & Deg...|         4422.04|Bergen St & Smith St|       4446.01| 40.6859296|  -74.00242364|  40.6867443|  -73.99063168|       casual|\n",
            "|096AC000442AA859| classic_bike|2021-11-11 16:37:28|2021-11-11 16:50:51|  E 32 St & Park Ave|         6280.12|     W 45 St & 8 Ave|       6676.02| 40.7457121|  -73.98194829| 40.75929124|  -73.98859651|       member|\n",
            "|7ABE54EAAB9C501E| classic_bike|2021-11-17 12:39:03|2021-11-17 12:42:08|President St & He...|         4307.13|Carroll St & Smit...|       4225.14| 40.6828003|  -73.99990419|   40.680611|  -73.99475825|       member|\n",
            "|8BAEA48FD9411FAA| classic_bike|2021-11-08 12:02:16|2021-11-08 12:19:15|Boerum St & Broadway|         5004.02|N 6 St & Bedford Ave|       5379.10|40.70538077|  -73.94976519| 40.71745169|  -73.95850939|       member|\n",
            "|08BC97A9E6B4B5CD|electric_bike|2021-11-10 11:41:34|2021-11-10 12:00:47|Boerum St & Broadway|         5004.02|DeKalb Ave & S Po...|       4546.04|40.70538077|  -73.94976519| 40.68981035|  -73.97493121|       casual|\n",
            "|0C1BE26407172178| classic_bike|2021-11-05 13:40:48|2021-11-05 13:47:44|Lafayette Ave & S...|         4494.04|Lefferts Pl & Fra...|       4222.02|40.68851534|   -73.9647628|40.680342423|-73.9557689392|       casual|\n",
            "|C27D1AEDE23F455A|electric_bike|2021-11-05 14:48:58|2021-11-05 14:51:58|Lafayette Ave & S...|         4494.04|DeKalb Ave & S Po...|       4546.04|40.68851534|   -73.9647628| 40.68981035|  -73.97493121|       casual|\n",
            "|9398030BA10C5D6A| classic_bike|2021-11-20 16:12:20|2021-11-20 16:26:12|Franklin Ave & St...|         4107.05|DeKalb Ave & S Po...|       4546.04| 40.6758324|   -73.9561677| 40.68981035|  -73.97493121|       casual|\n",
            "|302C88D9D73AEE17| classic_bike|2021-11-17 16:19:46|2021-11-17 16:32:43|    W 53 St & 10 Ave|         6890.01|E 44 St & Lexingt...|       6464.09|40.76669671|  -73.99061728|   40.752643|    -73.974996|       member|\n",
            "|81D0AF0AD42CF85F| classic_bike|2021-11-11 08:45:29|2021-11-11 08:52:29|  E 32 St & Park Ave|         6280.12|     E 15 St & 3 Ave|       5863.07| 40.7457121|  -73.98194829|   40.734232|    -73.986923|       member|\n",
            "|1E9593CCA5BB54AC| classic_bike|2021-11-04 23:54:18|2021-11-05 00:32:25|  W 67 St & Broadway|         7116.04|     W 13 St & 7 Ave|       6030.04|40.77492513|  -73.98266566| 40.73781509|  -73.99994661|       member|\n",
            "|FEA193C3B3F8B5D9| classic_bike|2021-11-01 11:29:43|2021-11-01 11:32:18|Franklin Ave & St...|         4107.05|Lefferts Pl & Fra...|       4222.02| 40.6758324|   -73.9561677|40.680342423|-73.9557689392|       member|\n",
            "|DF133C000A1F8843|electric_bike|2021-11-20 18:50:45|2021-11-20 19:40:31|W 107 St & Columb...|         7619.05|Sullivan St & Was...|       5721.01| 40.7997568|-73.9621128676| 40.73047747|  -73.99906065|       member|\n",
            "+----------------+-------------+-------------------+-------------------+--------------------+----------------+--------------------+--------------+-----------+--------------+------------+--------------+-------------+\n",
            "only showing top 20 rows\n",
            "\n"
          ]
        }
      ]
    },
    {
      "cell_type": "code",
      "source": [
        "\n",
        "new_bikedata_df = bikedata_df.drop('start_station_id', 'end_station_id')"
      ],
      "metadata": {
        "id": "XcSgjdvn1Of_"
      },
      "execution_count": 7,
      "outputs": []
    },
    {
      "cell_type": "code",
      "source": [
        "new_bikedata_df.show()"
      ],
      "metadata": {
        "colab": {
          "base_uri": "https://localhost:8080/"
        },
        "id": "QPNoFMvDeBu9",
        "outputId": "7e007a74-53b2-4cae-d219-0618861bda8a"
      },
      "execution_count": 8,
      "outputs": [
        {
          "output_type": "stream",
          "name": "stdout",
          "text": [
            "+----------------+-------------+-------------------+-------------------+--------------------+--------------------+-----------+--------------+------------+--------------+-------------+\n",
            "|         ride_id|rideable_type|         started_at|           ended_at|  start_station_name|    end_station_name|  start_lat|     start_lng|     end_lat|       end_lng|member_casual|\n",
            "+----------------+-------------+-------------------+-------------------+--------------------+--------------------+-----------+--------------+------------+--------------+-------------+\n",
            "|F8C750DE34200458|electric_bike|2021-11-08 07:34:45|2021-11-08 07:52:14|Franklin Ave & St...|Carroll St & Smit...| 40.6758324|   -73.9561677|   40.680611|  -73.99475825|       member|\n",
            "|150B96183EA723BE|electric_bike|2021-11-24 10:27:06|2021-11-24 10:34:40|Pleasant Ave & E ...|Willis Ave & E 13...| 40.7974772|   -73.9311847|   40.808384|    -73.923604|       member|\n",
            "|55BA8CE0120B8994|electric_bike|2021-11-27 18:11:36|2021-11-27 19:19:16|West St & Liberty St|     W 45 St & 8 Ave|  40.711444|    -74.014847| 40.75929124|  -73.98859651|       member|\n",
            "|BEEAF39A29375A4F|electric_bike|2021-11-22 14:52:20|2021-11-22 15:30:40|  W 67 St & Broadway|     E 84 St & 1 Ave|40.77492513|  -73.98266566| 40.77565541|  -73.95068615|       member|\n",
            "|A322C249E2152BE8|electric_bike|2021-11-10 14:32:56|2021-11-10 14:36:19|    W 53 St & 10 Ave|     W 45 St & 8 Ave|40.76669671|  -73.99061728| 40.75929124|  -73.98859651|       member|\n",
            "|47838257604530BE|electric_bike|2021-11-09 07:20:53|2021-11-09 07:26:13|Franklin Ave & St...|Plaza St East & F...| 40.6758324|   -73.9561677|   40.673134|    -73.969106|       casual|\n",
            "|362E604AA6EECA77| classic_bike|2021-11-03 16:23:08|2021-11-03 16:30:39|Classon Ave & St ...|Plaza St East & F...| 40.6765198|   -73.9596082|   40.673134|    -73.969106|       casual|\n",
            "|68CF5DD571217350| classic_bike|2021-11-03 14:00:14|2021-11-03 14:07:12|Columbia St & Deg...|Bergen St & Smith St| 40.6859296|  -74.00242364|  40.6867443|  -73.99063168|       casual|\n",
            "|096AC000442AA859| classic_bike|2021-11-11 16:37:28|2021-11-11 16:50:51|  E 32 St & Park Ave|     W 45 St & 8 Ave| 40.7457121|  -73.98194829| 40.75929124|  -73.98859651|       member|\n",
            "|7ABE54EAAB9C501E| classic_bike|2021-11-17 12:39:03|2021-11-17 12:42:08|President St & He...|Carroll St & Smit...| 40.6828003|  -73.99990419|   40.680611|  -73.99475825|       member|\n",
            "|8BAEA48FD9411FAA| classic_bike|2021-11-08 12:02:16|2021-11-08 12:19:15|Boerum St & Broadway|N 6 St & Bedford Ave|40.70538077|  -73.94976519| 40.71745169|  -73.95850939|       member|\n",
            "|08BC97A9E6B4B5CD|electric_bike|2021-11-10 11:41:34|2021-11-10 12:00:47|Boerum St & Broadway|DeKalb Ave & S Po...|40.70538077|  -73.94976519| 40.68981035|  -73.97493121|       casual|\n",
            "|0C1BE26407172178| classic_bike|2021-11-05 13:40:48|2021-11-05 13:47:44|Lafayette Ave & S...|Lefferts Pl & Fra...|40.68851534|   -73.9647628|40.680342423|-73.9557689392|       casual|\n",
            "|C27D1AEDE23F455A|electric_bike|2021-11-05 14:48:58|2021-11-05 14:51:58|Lafayette Ave & S...|DeKalb Ave & S Po...|40.68851534|   -73.9647628| 40.68981035|  -73.97493121|       casual|\n",
            "|9398030BA10C5D6A| classic_bike|2021-11-20 16:12:20|2021-11-20 16:26:12|Franklin Ave & St...|DeKalb Ave & S Po...| 40.6758324|   -73.9561677| 40.68981035|  -73.97493121|       casual|\n",
            "|302C88D9D73AEE17| classic_bike|2021-11-17 16:19:46|2021-11-17 16:32:43|    W 53 St & 10 Ave|E 44 St & Lexingt...|40.76669671|  -73.99061728|   40.752643|    -73.974996|       member|\n",
            "|81D0AF0AD42CF85F| classic_bike|2021-11-11 08:45:29|2021-11-11 08:52:29|  E 32 St & Park Ave|     E 15 St & 3 Ave| 40.7457121|  -73.98194829|   40.734232|    -73.986923|       member|\n",
            "|1E9593CCA5BB54AC| classic_bike|2021-11-04 23:54:18|2021-11-05 00:32:25|  W 67 St & Broadway|     W 13 St & 7 Ave|40.77492513|  -73.98266566| 40.73781509|  -73.99994661|       member|\n",
            "|FEA193C3B3F8B5D9| classic_bike|2021-11-01 11:29:43|2021-11-01 11:32:18|Franklin Ave & St...|Lefferts Pl & Fra...| 40.6758324|   -73.9561677|40.680342423|-73.9557689392|       member|\n",
            "|DF133C000A1F8843|electric_bike|2021-11-20 18:50:45|2021-11-20 19:40:31|W 107 St & Columb...|Sullivan St & Was...| 40.7997568|-73.9621128676| 40.73047747|  -73.99906065|       member|\n",
            "+----------------+-------------+-------------------+-------------------+--------------------+--------------------+-----------+--------------+------------+--------------+-------------+\n",
            "only showing top 20 rows\n",
            "\n"
          ]
        }
      ]
    },
    {
      "cell_type": "code",
      "source": [
        "# from sklearn.model_selection import train_test_split\n",
        "from sklearn.preprocessing import StandardScaler,OneHotEncoder\n",
        "import pandas as pd\n",
        "import tensorflow as tf\n",
        "from pathlib import Path\n",
        "import matplotlib.pyplot as plt\n",
        "import plotly.express as px\n",
        "##import hvplot.pandas\n",
        "from sklearn.cluster import KMeans\n",
        "from sklearn.linear_model import LinearRegression\n",
        "import datetime as dt\n",
        "\n",
        "ID=0\n"
      ],
      "metadata": {
        "id": "0Jb96npunjaB"
      },
      "execution_count": 9,
      "outputs": []
    },
    {
      "cell_type": "code",
      "source": [
        "pip install haversine"
      ],
      "metadata": {
        "colab": {
          "base_uri": "https://localhost:8080/"
        },
        "id": "iPSqs6B_XPdZ",
        "outputId": "ae42a004-3258-4ae6-a7bc-a8c49e31d84b"
      },
      "execution_count": 16,
      "outputs": [
        {
          "output_type": "stream",
          "name": "stdout",
          "text": [
            "Looking in indexes: https://pypi.org/simple, https://us-python.pkg.dev/colab-wheels/public/simple/\n",
            "Collecting haversine\n",
            "  Downloading haversine-2.6.0-py2.py3-none-any.whl (6.8 kB)\n",
            "Installing collected packages: haversine\n",
            "Successfully installed haversine-2.6.0\n"
          ]
        }
      ]
    },
    {
      "cell_type": "code",
      "source": [
        "import haversine as hs\n",
        "from haversine import Unit\n",
        "#!pip install haversine\n",
        "\n",
        "new_bikedata_df.insert(12, 'distance_traveled',\"0\" ,  allow_duplicates = False)\n",
        "new_bikedata_df.head(10)\n",
        "\n",
        "#new_bikedata_df.insert(11, 'distance_traveled', dtype =int, hs.haversine(loc1,loc2, unit=Unit.MILES), allow_duplicates = False)\n",
        "#new_bikedata_df['distance_traveled'] = hs.haversine(loc1,loc2,unit=Unit.MILES)"
      ],
      "metadata": {
        "colab": {
          "base_uri": "https://localhost:8080/",
          "height": 356
        },
        "id": "-1Y-wUU7XHRi",
        "outputId": "2172b1d0-89ad-42e4-d3b2-91175e23cf42"
      },
      "execution_count": 17,
      "outputs": [
        {
          "output_type": "error",
          "ename": "AttributeError",
          "evalue": "ignored",
          "traceback": [
            "\u001b[0;31m---------------------------------------------------------------------------\u001b[0m",
            "\u001b[0;31mAttributeError\u001b[0m                            Traceback (most recent call last)",
            "\u001b[0;32m<ipython-input-17-34d2f4c84017>\u001b[0m in \u001b[0;36m<module>\u001b[0;34m()\u001b[0m\n\u001b[1;32m      3\u001b[0m \u001b[0;31m#!pip install haversine\u001b[0m\u001b[0;34m\u001b[0m\u001b[0;34m\u001b[0m\u001b[0;34m\u001b[0m\u001b[0m\n\u001b[1;32m      4\u001b[0m \u001b[0;34m\u001b[0m\u001b[0m\n\u001b[0;32m----> 5\u001b[0;31m \u001b[0mnew_bikedata_df\u001b[0m\u001b[0;34m.\u001b[0m\u001b[0minsert\u001b[0m\u001b[0;34m(\u001b[0m\u001b[0;36m12\u001b[0m\u001b[0;34m,\u001b[0m \u001b[0;34m'distance_traveled'\u001b[0m\u001b[0;34m,\u001b[0m\u001b[0;34m\"0\"\u001b[0m \u001b[0;34m,\u001b[0m  \u001b[0mallow_duplicates\u001b[0m \u001b[0;34m=\u001b[0m \u001b[0;32mFalse\u001b[0m\u001b[0;34m)\u001b[0m\u001b[0;34m\u001b[0m\u001b[0;34m\u001b[0m\u001b[0m\n\u001b[0m\u001b[1;32m      6\u001b[0m \u001b[0mnew_bikedata_df\u001b[0m\u001b[0;34m.\u001b[0m\u001b[0mhead\u001b[0m\u001b[0;34m(\u001b[0m\u001b[0;36m10\u001b[0m\u001b[0;34m)\u001b[0m\u001b[0;34m\u001b[0m\u001b[0;34m\u001b[0m\u001b[0m\n\u001b[1;32m      7\u001b[0m \u001b[0;34m\u001b[0m\u001b[0m\n",
            "\u001b[0;32m/content/spark-3.3.0-bin-hadoop3/python/pyspark/sql/dataframe.py\u001b[0m in \u001b[0;36m__getattr__\u001b[0;34m(self, name)\u001b[0m\n\u001b[1;32m   1987\u001b[0m         \u001b[0;32mif\u001b[0m \u001b[0mname\u001b[0m \u001b[0;32mnot\u001b[0m \u001b[0;32min\u001b[0m \u001b[0mself\u001b[0m\u001b[0;34m.\u001b[0m\u001b[0mcolumns\u001b[0m\u001b[0;34m:\u001b[0m\u001b[0;34m\u001b[0m\u001b[0;34m\u001b[0m\u001b[0m\n\u001b[1;32m   1988\u001b[0m             raise AttributeError(\n\u001b[0;32m-> 1989\u001b[0;31m                 \u001b[0;34m\"'%s' object has no attribute '%s'\"\u001b[0m \u001b[0;34m%\u001b[0m \u001b[0;34m(\u001b[0m\u001b[0mself\u001b[0m\u001b[0;34m.\u001b[0m\u001b[0m__class__\u001b[0m\u001b[0;34m.\u001b[0m\u001b[0m__name__\u001b[0m\u001b[0;34m,\u001b[0m \u001b[0mname\u001b[0m\u001b[0;34m)\u001b[0m\u001b[0;34m\u001b[0m\u001b[0;34m\u001b[0m\u001b[0m\n\u001b[0m\u001b[1;32m   1990\u001b[0m             )\n\u001b[1;32m   1991\u001b[0m         \u001b[0mjc\u001b[0m \u001b[0;34m=\u001b[0m \u001b[0mself\u001b[0m\u001b[0;34m.\u001b[0m\u001b[0m_jdf\u001b[0m\u001b[0;34m.\u001b[0m\u001b[0mapply\u001b[0m\u001b[0;34m(\u001b[0m\u001b[0mname\u001b[0m\u001b[0;34m)\u001b[0m\u001b[0;34m\u001b[0m\u001b[0;34m\u001b[0m\u001b[0m\n",
            "\u001b[0;31mAttributeError\u001b[0m: 'DataFrame' object has no attribute 'insert'"
          ]
        }
      ]
    },
    {
      "cell_type": "code",
      "source": [
        "new_bikedata_df.columns"
      ],
      "metadata": {
        "colab": {
          "base_uri": "https://localhost:8080/"
        },
        "id": "vZ64KVn6Wd7i",
        "outputId": "96ce1301-1efc-4658-e1ea-505b4f6a61a1"
      },
      "execution_count": 14,
      "outputs": [
        {
          "output_type": "execute_result",
          "data": {
            "text/plain": [
              "['ride_id',\n",
              " 'rideable_type',\n",
              " 'started_at',\n",
              " 'ended_at',\n",
              " 'start_station_name',\n",
              " 'end_station_name',\n",
              " 'start_lat',\n",
              " 'start_lng',\n",
              " 'end_lat',\n",
              " 'end_lng',\n",
              " 'member_casual']"
            ]
          },
          "metadata": {},
          "execution_count": 14
        }
      ]
    },
    {
      "cell_type": "code",
      "source": [
        "##Add new columns for POSIX timestamps\n",
        "\n",
        "new_bikedata_df.assign(10, 'ended_at_sec', new_bikedata_df['ended_at'], allow_duplicates = False)\n",
        "new_bikedata_df.assign(10, 'started_at_sec', new_bikedata_df['started_at'], allow_duplicates = False)"
      ],
      "metadata": {
        "colab": {
          "base_uri": "https://localhost:8080/",
          "height": 339
        },
        "id": "HdG64OiGkv10",
        "outputId": "2323a4cc-6ebb-4a7f-be1f-0f108c2863d4"
      },
      "execution_count": 18,
      "outputs": [
        {
          "output_type": "error",
          "ename": "AttributeError",
          "evalue": "ignored",
          "traceback": [
            "\u001b[0;31m---------------------------------------------------------------------------\u001b[0m",
            "\u001b[0;31mAttributeError\u001b[0m                            Traceback (most recent call last)",
            "\u001b[0;32m<ipython-input-18-d2c3aa281f1d>\u001b[0m in \u001b[0;36m<module>\u001b[0;34m()\u001b[0m\n\u001b[1;32m      1\u001b[0m \u001b[0;31m##Add new columns for POSIX timestamps\u001b[0m\u001b[0;34m\u001b[0m\u001b[0;34m\u001b[0m\u001b[0;34m\u001b[0m\u001b[0m\n\u001b[1;32m      2\u001b[0m \u001b[0;34m\u001b[0m\u001b[0m\n\u001b[0;32m----> 3\u001b[0;31m \u001b[0mnew_bikedata_df\u001b[0m\u001b[0;34m.\u001b[0m\u001b[0massign\u001b[0m\u001b[0;34m(\u001b[0m\u001b[0;36m10\u001b[0m\u001b[0;34m,\u001b[0m \u001b[0;34m'ended_at_sec'\u001b[0m\u001b[0;34m,\u001b[0m \u001b[0mnew_bikedata_df\u001b[0m\u001b[0;34m[\u001b[0m\u001b[0;34m'ended_at'\u001b[0m\u001b[0;34m]\u001b[0m\u001b[0;34m,\u001b[0m \u001b[0mallow_duplicates\u001b[0m \u001b[0;34m=\u001b[0m \u001b[0;32mFalse\u001b[0m\u001b[0;34m)\u001b[0m\u001b[0;34m\u001b[0m\u001b[0;34m\u001b[0m\u001b[0m\n\u001b[0m\u001b[1;32m      4\u001b[0m \u001b[0mnew_bikedata_df\u001b[0m\u001b[0;34m.\u001b[0m\u001b[0massign\u001b[0m\u001b[0;34m(\u001b[0m\u001b[0;36m10\u001b[0m\u001b[0;34m,\u001b[0m \u001b[0;34m'started_at_sec'\u001b[0m\u001b[0;34m,\u001b[0m \u001b[0mnew_bikedata_df\u001b[0m\u001b[0;34m[\u001b[0m\u001b[0;34m'started_at'\u001b[0m\u001b[0;34m]\u001b[0m\u001b[0;34m,\u001b[0m \u001b[0mallow_duplicates\u001b[0m \u001b[0;34m=\u001b[0m \u001b[0;32mFalse\u001b[0m\u001b[0;34m)\u001b[0m\u001b[0;34m\u001b[0m\u001b[0;34m\u001b[0m\u001b[0m\n",
            "\u001b[0;32m/content/spark-3.3.0-bin-hadoop3/python/pyspark/sql/dataframe.py\u001b[0m in \u001b[0;36m__getattr__\u001b[0;34m(self, name)\u001b[0m\n\u001b[1;32m   1987\u001b[0m         \u001b[0;32mif\u001b[0m \u001b[0mname\u001b[0m \u001b[0;32mnot\u001b[0m \u001b[0;32min\u001b[0m \u001b[0mself\u001b[0m\u001b[0;34m.\u001b[0m\u001b[0mcolumns\u001b[0m\u001b[0;34m:\u001b[0m\u001b[0;34m\u001b[0m\u001b[0;34m\u001b[0m\u001b[0m\n\u001b[1;32m   1988\u001b[0m             raise AttributeError(\n\u001b[0;32m-> 1989\u001b[0;31m                 \u001b[0;34m\"'%s' object has no attribute '%s'\"\u001b[0m \u001b[0;34m%\u001b[0m \u001b[0;34m(\u001b[0m\u001b[0mself\u001b[0m\u001b[0;34m.\u001b[0m\u001b[0m__class__\u001b[0m\u001b[0;34m.\u001b[0m\u001b[0m__name__\u001b[0m\u001b[0;34m,\u001b[0m \u001b[0mname\u001b[0m\u001b[0;34m)\u001b[0m\u001b[0;34m\u001b[0m\u001b[0;34m\u001b[0m\u001b[0m\n\u001b[0m\u001b[1;32m   1990\u001b[0m             )\n\u001b[1;32m   1991\u001b[0m         \u001b[0mjc\u001b[0m \u001b[0;34m=\u001b[0m \u001b[0mself\u001b[0m\u001b[0;34m.\u001b[0m\u001b[0m_jdf\u001b[0m\u001b[0;34m.\u001b[0m\u001b[0mapply\u001b[0m\u001b[0;34m(\u001b[0m\u001b[0mname\u001b[0m\u001b[0;34m)\u001b[0m\u001b[0;34m\u001b[0m\u001b[0;34m\u001b[0m\u001b[0m\n",
            "\u001b[0;31mAttributeError\u001b[0m: 'DataFrame' object has no attribute 'assign'"
          ]
        }
      ]
    },
    {
      "cell_type": "code",
      "source": [
        "# COLUMNS\n",
        "new_bikedata_df.columns"
      ],
      "metadata": {
        "colab": {
          "base_uri": "https://localhost:8080/"
        },
        "id": "OcJG4lwynoRs",
        "outputId": "a7f53278-b214-47a6-bf50-9fafbfa38ac8"
      },
      "execution_count": null,
      "outputs": [
        {
          "output_type": "execute_result",
          "data": {
            "text/plain": [
              "['ride_id',\n",
              " 'rideable_type',\n",
              " 'started_at',\n",
              " 'ended_at',\n",
              " 'start_station_name',\n",
              " 'end_station_name',\n",
              " 'start_lat',\n",
              " 'start_lng',\n",
              " 'end_lat',\n",
              " 'end_lng',\n",
              " 'member_casual']"
            ]
          },
          "metadata": {},
          "execution_count": 46
        }
      ]
    },
    {
      "cell_type": "code",
      "source": [
        "# LIST DATAFRAME DATA TYPES\n",
        "new_bikedata_df.dtypes"
      ],
      "metadata": {
        "colab": {
          "base_uri": "https://localhost:8080/"
        },
        "id": "lBygFJwInoWS",
        "outputId": "eba998f2-2643-4330-8ee0-4a9da94eb150"
      },
      "execution_count": 15,
      "outputs": [
        {
          "output_type": "execute_result",
          "data": {
            "text/plain": [
              "[('ride_id', 'string'),\n",
              " ('rideable_type', 'string'),\n",
              " ('started_at', 'timestamp'),\n",
              " ('ended_at', 'timestamp'),\n",
              " ('start_station_name', 'string'),\n",
              " ('end_station_name', 'string'),\n",
              " ('start_lat', 'double'),\n",
              " ('start_lng', 'double'),\n",
              " ('end_lat', 'double'),\n",
              " ('end_lng', 'double'),\n",
              " ('member_casual', 'string')]"
            ]
          },
          "metadata": {},
          "execution_count": 15
        }
      ]
    },
    {
      "cell_type": "code",
      "source": [
        "# FIND NULL VALUES\n",
        "for column in new_bikedata_df.columns: print(f\"Column {Column} has {new_bikedata_df[column].isnull().sum()}null values\")"
      ],
      "metadata": {
        "colab": {
          "base_uri": "https://localhost:8080/",
          "height": 183
        },
        "id": "kobRyfcKnoaA",
        "outputId": "009152e1-016c-46d0-b9bc-2895c9510ef9"
      },
      "execution_count": null,
      "outputs": [
        {
          "output_type": "error",
          "ename": "NameError",
          "evalue": "ignored",
          "traceback": [
            "\u001b[0;31m---------------------------------------------------------------------------\u001b[0m",
            "\u001b[0;31mNameError\u001b[0m                                 Traceback (most recent call last)",
            "\u001b[0;32m<ipython-input-54-ac14ac491124>\u001b[0m in \u001b[0;36m<module>\u001b[0;34m()\u001b[0m\n\u001b[1;32m      1\u001b[0m \u001b[0;31m# FIND NULL VALUES\u001b[0m\u001b[0;34m\u001b[0m\u001b[0;34m\u001b[0m\u001b[0;34m\u001b[0m\u001b[0m\n\u001b[0;32m----> 2\u001b[0;31m \u001b[0;32mfor\u001b[0m \u001b[0mcolumn\u001b[0m \u001b[0;32min\u001b[0m \u001b[0mnew_bikedata_df\u001b[0m\u001b[0;34m.\u001b[0m\u001b[0mcolumns\u001b[0m\u001b[0;34m:\u001b[0m \u001b[0mprint\u001b[0m\u001b[0;34m(\u001b[0m\u001b[0;34mf\"Column {Column} has {new_bikedata_df[column].isnull().sum()}null values\"\u001b[0m\u001b[0;34m)\u001b[0m\u001b[0;34m\u001b[0m\u001b[0;34m\u001b[0m\u001b[0m\n\u001b[0m",
            "\u001b[0;31mNameError\u001b[0m: name 'Column' is not defined"
          ]
        }
      ]
    },
    {
      "cell_type": "code",
      "source": [
        "# DROP NULL ROWS\n",
        "new_bikedata_df = new_bikedata_df.dropna()"
      ],
      "metadata": {
        "id": "H26-cYJHoQVU"
      },
      "execution_count": null,
      "outputs": []
    },
    {
      "cell_type": "code",
      "source": [
        "# FIND DUPLICATE ENTRIES\n",
        "print(f\"Duplicate entries: {new_bikedata_df.duplicated().sum()}\")"
      ],
      "metadata": {
        "colab": {
          "base_uri": "https://localhost:8080/",
          "height": 304
        },
        "id": "NO3-46PboQYa",
        "outputId": "ee50c385-2c2e-48fd-b61e-0bb6ec22694f"
      },
      "execution_count": null,
      "outputs": [
        {
          "output_type": "error",
          "ename": "AttributeError",
          "evalue": "ignored",
          "traceback": [
            "\u001b[0;31m---------------------------------------------------------------------------\u001b[0m",
            "\u001b[0;31mAttributeError\u001b[0m                            Traceback (most recent call last)",
            "\u001b[0;32m<ipython-input-51-144f4112efa2>\u001b[0m in \u001b[0;36m<module>\u001b[0;34m()\u001b[0m\n\u001b[1;32m      1\u001b[0m \u001b[0;31m# FIND DUPLICATE ENTRIES\u001b[0m\u001b[0;34m\u001b[0m\u001b[0;34m\u001b[0m\u001b[0;34m\u001b[0m\u001b[0m\n\u001b[0;32m----> 2\u001b[0;31m \u001b[0mprint\u001b[0m\u001b[0;34m(\u001b[0m\u001b[0;34mf\"Duplicate entries: {new_bikedata_df.duplicated().sum()}\"\u001b[0m\u001b[0;34m)\u001b[0m\u001b[0;34m\u001b[0m\u001b[0;34m\u001b[0m\u001b[0m\n\u001b[0m",
            "\u001b[0;32m/content/spark-3.3.0-bin-hadoop3/python/pyspark/sql/dataframe.py\u001b[0m in \u001b[0;36m__getattr__\u001b[0;34m(self, name)\u001b[0m\n\u001b[1;32m   1987\u001b[0m         \u001b[0;32mif\u001b[0m \u001b[0mname\u001b[0m \u001b[0;32mnot\u001b[0m \u001b[0;32min\u001b[0m \u001b[0mself\u001b[0m\u001b[0;34m.\u001b[0m\u001b[0mcolumns\u001b[0m\u001b[0;34m:\u001b[0m\u001b[0;34m\u001b[0m\u001b[0;34m\u001b[0m\u001b[0m\n\u001b[1;32m   1988\u001b[0m             raise AttributeError(\n\u001b[0;32m-> 1989\u001b[0;31m                 \u001b[0;34m\"'%s' object has no attribute '%s'\"\u001b[0m \u001b[0;34m%\u001b[0m \u001b[0;34m(\u001b[0m\u001b[0mself\u001b[0m\u001b[0;34m.\u001b[0m\u001b[0m__class__\u001b[0m\u001b[0;34m.\u001b[0m\u001b[0m__name__\u001b[0m\u001b[0;34m,\u001b[0m \u001b[0mname\u001b[0m\u001b[0;34m)\u001b[0m\u001b[0;34m\u001b[0m\u001b[0;34m\u001b[0m\u001b[0m\n\u001b[0m\u001b[1;32m   1990\u001b[0m             )\n\u001b[1;32m   1991\u001b[0m         \u001b[0mjc\u001b[0m \u001b[0;34m=\u001b[0m \u001b[0mself\u001b[0m\u001b[0;34m.\u001b[0m\u001b[0m_jdf\u001b[0m\u001b[0;34m.\u001b[0m\u001b[0mapply\u001b[0m\u001b[0;34m(\u001b[0m\u001b[0mname\u001b[0m\u001b[0;34m)\u001b[0m\u001b[0;34m\u001b[0m\u001b[0;34m\u001b[0m\u001b[0m\n",
            "\u001b[0;31mAttributeError\u001b[0m: 'DataFrame' object has no attribute 'duplicated'"
          ]
        }
      ]
    },
    {
      "cell_type": "code",
      "source": [
        "# TRANSFORM STRING COLUMN\n",
        "def change_string(rideable_type):\n",
        "    if rideable_type == \"electric_bike\":\n",
        "        return 1\n",
        "    else:\n",
        "        return 0\n",
        "    \n",
        "new_bikedata_df[\"rideable_type\"] = new_bikedata_df[\"rideable_type\"].apply(change_string)\n",
        "new_bikedata_df.head(20)"
      ],
      "metadata": {
        "colab": {
          "base_uri": "https://localhost:8080/",
          "height": 217
        },
        "id": "7l_P9ZuyoQbh",
        "outputId": "37af42e5-92c4-4cac-e848-cf2dd15be73d"
      },
      "execution_count": null,
      "outputs": [
        {
          "output_type": "error",
          "ename": "TypeError",
          "evalue": "ignored",
          "traceback": [
            "\u001b[0;31m---------------------------------------------------------------------------\u001b[0m",
            "\u001b[0;31mTypeError\u001b[0m                                 Traceback (most recent call last)",
            "\u001b[0;32m<ipython-input-53-af221d089a57>\u001b[0m in \u001b[0;36m<module>\u001b[0;34m()\u001b[0m\n\u001b[1;32m      6\u001b[0m         \u001b[0;32mreturn\u001b[0m \u001b[0;36m0\u001b[0m\u001b[0;34m\u001b[0m\u001b[0;34m\u001b[0m\u001b[0m\n\u001b[1;32m      7\u001b[0m \u001b[0;34m\u001b[0m\u001b[0m\n\u001b[0;32m----> 8\u001b[0;31m \u001b[0mnew_bikedata_df\u001b[0m\u001b[0;34m[\u001b[0m\u001b[0;34m\"rideable_type\"\u001b[0m\u001b[0;34m]\u001b[0m \u001b[0;34m=\u001b[0m \u001b[0mnew_bikedata_df\u001b[0m\u001b[0;34m[\u001b[0m\u001b[0;34m\"rideable_type\"\u001b[0m\u001b[0;34m]\u001b[0m\u001b[0;34m.\u001b[0m\u001b[0mapply\u001b[0m\u001b[0;34m(\u001b[0m\u001b[0mchange_string\u001b[0m\u001b[0;34m)\u001b[0m\u001b[0;34m\u001b[0m\u001b[0;34m\u001b[0m\u001b[0m\n\u001b[0m\u001b[1;32m      9\u001b[0m \u001b[0mnew_bikedata_df\u001b[0m\u001b[0;34m.\u001b[0m\u001b[0mhead\u001b[0m\u001b[0;34m(\u001b[0m\u001b[0;36m20\u001b[0m\u001b[0;34m)\u001b[0m\u001b[0;34m\u001b[0m\u001b[0;34m\u001b[0m\u001b[0m\n",
            "\u001b[0;31mTypeError\u001b[0m: 'Column' object is not callable"
          ]
        }
      ]
    },
    {
      "cell_type": "code",
      "source": [
        "\n",
        "def change_string(ride_id):\n",
        "    if ride_id != \"0\":\n",
        "        global ID\n",
        "        ID = ID +1\n",
        "        return ID\n",
        "    else:\n",
        "        \n",
        "        return ID\n",
        "    \n",
        "new_bikedata_df[\"ride_id\"] = new_bikedata_df[\"ride_id\"].apply(change_string)\n",
        "new_bikedata_df.head(20)"
      ],
      "metadata": {
        "colab": {
          "base_uri": "https://localhost:8080/",
          "height": 217
        },
        "id": "W1VXmzqWoQek",
        "outputId": "dd6f6550-8c8c-464f-d67d-d5ab8974dba3"
      },
      "execution_count": null,
      "outputs": [
        {
          "output_type": "error",
          "ename": "TypeError",
          "evalue": "ignored",
          "traceback": [
            "\u001b[0;31m---------------------------------------------------------------------------\u001b[0m",
            "\u001b[0;31mTypeError\u001b[0m                                 Traceback (most recent call last)",
            "\u001b[0;32m<ipython-input-55-f9b055109ff1>\u001b[0m in \u001b[0;36m<module>\u001b[0;34m()\u001b[0m\n\u001b[1;32m      9\u001b[0m         \u001b[0;32mreturn\u001b[0m \u001b[0mID\u001b[0m\u001b[0;34m\u001b[0m\u001b[0;34m\u001b[0m\u001b[0m\n\u001b[1;32m     10\u001b[0m \u001b[0;34m\u001b[0m\u001b[0m\n\u001b[0;32m---> 11\u001b[0;31m \u001b[0mnew_bikedata_df\u001b[0m\u001b[0;34m[\u001b[0m\u001b[0;34m\"ride_id\"\u001b[0m\u001b[0;34m]\u001b[0m \u001b[0;34m=\u001b[0m \u001b[0mnew_bikedata_df\u001b[0m\u001b[0;34m[\u001b[0m\u001b[0;34m\"ride_id\"\u001b[0m\u001b[0;34m]\u001b[0m\u001b[0;34m.\u001b[0m\u001b[0mapply\u001b[0m\u001b[0;34m(\u001b[0m\u001b[0mchange_string\u001b[0m\u001b[0;34m)\u001b[0m\u001b[0;34m\u001b[0m\u001b[0;34m\u001b[0m\u001b[0m\n\u001b[0m\u001b[1;32m     12\u001b[0m \u001b[0mnew_bikedata_df\u001b[0m\u001b[0;34m.\u001b[0m\u001b[0mhead\u001b[0m\u001b[0;34m(\u001b[0m\u001b[0;36m20\u001b[0m\u001b[0;34m)\u001b[0m\u001b[0;34m\u001b[0m\u001b[0;34m\u001b[0m\u001b[0m\n",
            "\u001b[0;31mTypeError\u001b[0m: 'Column' object is not callable"
          ]
        }
      ]
    },
    {
      "cell_type": "code",
      "source": [
        "new_bikedata_df['rideable_type']=new_bikedata_df.rideable_type.astype('int16')\n",
        "new_bikedata_df['start_station_name']=new_bikedata_df.start_station_name.astype('string')\n",
        "new_bikedata_df['end_station_name']=new_bikedata_df.end_station_name.astype('string')\n",
        "new_bikedata_df['member_casual']=new_bikedata_df.member_casual.astype('string')\n",
        "new_bikedata_df['ride_id']=new_bikedata_df.ride_id.astype('int16')\n",
        "new_bikedata_df['started_at']= pd.to_datetime(new_bikedata_df['started_at'])\n",
        "new_bikedata_df['ended_at']= pd.to_datetime(new_bikedata_df['ended_at'])\n",
        "## LIST DATAFRAME DATA TYPES\n",
        "new_bikedata_df.dtypes\n",
        "new_bikedata_df.loc[new_bikedata_df['rideable_type'] == 1].head(10)"
      ],
      "metadata": {
        "id": "1FMcvlsMoQhJ"
      },
      "execution_count": null,
      "outputs": []
    },
    {
      "cell_type": "code",
      "source": [
        "new_bikedata_df.loc.to_csv('202111-citibike-trpdata-electric.csv', index=False)\n",
        "new_bikedata_df.loc[new_bikedata_df['rideable_type'] == 1].head(10)"
      ],
      "metadata": {
        "id": "7aemsm69oXyA"
      },
      "execution_count": null,
      "outputs": []
    },
    {
      "cell_type": "code",
      "source": [
        ""
      ],
      "metadata": {
        "id": "qPZMbagsoX2i"
      },
      "execution_count": null,
      "outputs": []
    },
    {
      "cell_type": "code",
      "source": [
        ""
      ],
      "metadata": {
        "id": "d2G6YNMqoX5g"
      },
      "execution_count": null,
      "outputs": []
    },
    {
      "cell_type": "code",
      "source": [
        ""
      ],
      "metadata": {
        "id": "Tco6fdkfoX8h"
      },
      "execution_count": null,
      "outputs": []
    }
  ]
}