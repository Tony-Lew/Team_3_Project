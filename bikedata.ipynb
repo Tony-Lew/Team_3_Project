{
 "cells": [
  {
   "cell_type": "code",
   "execution_count": null,
   "id": "f20532af",
   "metadata": {},
   "outputs": [],
   "source": [
    "# Import our dependencies\n",
    "from sklearn.model_selection import train_test_split\n",
    "from sklearn.preprocessing import StandardScaler,OneHotEncoder\n",
    "import pandas as pd\n",
    "import tensorflow as tf\n",
    "from pathlib import Path\n",
    "import matplotlib.pyplot as plt\n",
    "import plotly.express as px\n",
    "import hvplot.pandas\n",
    "from sklearn.cluster import KMeans\n",
    "from sklearn.linear_model import LinearRegression\n",
    "\n",
    "# Import our input dataset\n",
    "bikedata_df = pd.read_csv('202111-citibike-tripdata.csv', low_memory=False)\n",
    "bikedata_df.head()\n"
   ]
  },
  {
   "cell_type": "code",
   "execution_count": null,
   "id": "5796f870",
   "metadata": {},
   "outputs": [],
   "source": [
    "# DROP THE start_lat, end_lat, start_lng & end_lng COLUMNS\n",
    "new_bikedata_df = bikedata_df.drop(['start_lat', 'start_lng', 'end_lat', 'end_lng'], axis=1)\n",
    "new_bikedata_df.head()\n"
   ]
  },
  {
   "cell_type": "code",
   "execution_count": null,
   "id": "5fc734bd",
   "metadata": {},
   "outputs": [],
   "source": [
    "# COLUMNS\n",
    "new_bikedata_df.columns\n"
   ]
  },
  {
   "cell_type": "code",
   "execution_count": null,
   "id": "1e7750f1",
   "metadata": {},
   "outputs": [],
   "source": [
    "# LIST DATAFRAME DATA TYPES\n",
    "new_bikedata_df.dtypes\n"
   ]
  },
  {
   "cell_type": "code",
   "execution_count": null,
   "id": "1382c5ce",
   "metadata": {},
   "outputs": [],
   "source": [
    "# FIND NULL VALUES\n",
    "for column in new_bikedata_df.columns:\n",
    "    print(f\"Column {column} has {new_bikedata_df[column].isnull().sum()}null values\")\n"
   ]
  },
  {
   "cell_type": "code",
   "execution_count": null,
   "id": "98de6cc2",
   "metadata": {},
   "outputs": [],
   "source": [
    "# DROP NULL ROWS\n",
    "new_bikedata_df = new_bikedata_df.dropna()\n"
   ]
  },
  {
   "cell_type": "code",
   "execution_count": null,
   "id": "e71320c6",
   "metadata": {},
   "outputs": [],
   "source": [
    "# FIND DUPLICATE ENTRIES\n",
    "print(f\"Duplicate entries: {new_bikedata_df.duplicated().sum()}\")\n"
   ]
  },
  {
   "cell_type": "code",
   "execution_count": null,
   "id": "53eff623",
   "metadata": {},
   "outputs": [],
   "source": [
    "# TRANSFORM STRING COLUMN\n",
    "def change_string(rideable_type):\n",
    "    if rideable_type == \"electric_bike\":\n",
    "        return 1\n",
    "    else:\n",
    "        return 0\n",
    "    \n",
    "new_bikedata_df[\"rideable_type\"] = new_bikedata_df[\"rideable_type\"].apply(change_string)\n",
    "new_bikedata_df.head(20)\n"
   ]
  },
  {
   "cell_type": "code",
   "execution_count": null,
   "id": "c5cfd51f",
   "metadata": {},
   "outputs": [],
   "source": [
    "new_bikedata_df.to_csv('new_citibike_data', index = False)\n"
   ]
  },
  {
   "cell_type": "code",
   "execution_count": null,
   "id": "4b9f77a5",
   "metadata": {},
   "outputs": [],
   "source": []
  }
 ],
 "metadata": {
  "kernelspec": {
   "display_name": "mlenv",
   "language": "python",
   "name": "mlenv"
  },
  "language_info": {
   "codemirror_mode": {
    "name": "ipython",
    "version": 3
   },
   "file_extension": ".py",
   "mimetype": "text/x-python",
   "name": "python",
   "nbconvert_exporter": "python",
   "pygments_lexer": "ipython3",
   "version": "3.7.13"
  }
 },
 "nbformat": 4,
 "nbformat_minor": 5
}
